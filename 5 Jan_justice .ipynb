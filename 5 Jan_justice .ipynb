{
 "cells": [
  {
   "cell_type": "markdown",
   "id": "f1dc6ec0",
   "metadata": {},
   "source": [
    "# Justice or election Data"
   ]
  },
  {
   "cell_type": "code",
   "execution_count": 1,
   "id": "d425fec5",
   "metadata": {},
   "outputs": [],
   "source": [
    "import numpy as np\n",
    "import pandas as pd\n",
    "import matplotlib.pyplot as plt\n",
    "%matplotlib inline"
   ]
  },
  {
   "cell_type": "code",
   "execution_count": 2,
   "id": "6b035ef2",
   "metadata": {},
   "outputs": [],
   "source": [
    "import warnings\n",
    "warnings.filterwarnings('ignore')"
   ]
  },
  {
   "cell_type": "code",
   "execution_count": 4,
   "id": "e1acaba7",
   "metadata": {},
   "outputs": [],
   "source": [
    "df = pd.read_csv('C://Users//Mayuri//Downloads//justice.csv')"
   ]
  },
  {
   "cell_type": "code",
   "execution_count": 5,
   "id": "54486928",
   "metadata": {},
   "outputs": [
    {
     "data": {
      "text/plain": [
       "(3303, 16)"
      ]
     },
     "execution_count": 5,
     "metadata": {},
     "output_type": "execute_result"
    }
   ],
   "source": [
    "df.shape"
   ]
  },
  {
   "cell_type": "code",
   "execution_count": 6,
   "id": "c0289b1b",
   "metadata": {},
   "outputs": [
    {
     "data": {
      "text/html": [
       "<div>\n",
       "<style scoped>\n",
       "    .dataframe tbody tr th:only-of-type {\n",
       "        vertical-align: middle;\n",
       "    }\n",
       "\n",
       "    .dataframe tbody tr th {\n",
       "        vertical-align: top;\n",
       "    }\n",
       "\n",
       "    .dataframe thead th {\n",
       "        text-align: right;\n",
       "    }\n",
       "</style>\n",
       "<table border=\"1\" class=\"dataframe\">\n",
       "  <thead>\n",
       "    <tr style=\"text-align: right;\">\n",
       "      <th></th>\n",
       "      <th>Unnamed: 0</th>\n",
       "      <th>ID</th>\n",
       "      <th>name</th>\n",
       "      <th>href</th>\n",
       "      <th>docket</th>\n",
       "      <th>term</th>\n",
       "      <th>first_party</th>\n",
       "      <th>second_party</th>\n",
       "      <th>facts</th>\n",
       "      <th>facts_len</th>\n",
       "      <th>majority_vote</th>\n",
       "      <th>minority_vote</th>\n",
       "      <th>first_party_winner</th>\n",
       "      <th>decision_type</th>\n",
       "      <th>disposition</th>\n",
       "      <th>issue_area</th>\n",
       "    </tr>\n",
       "  </thead>\n",
       "  <tbody>\n",
       "    <tr>\n",
       "      <th>0</th>\n",
       "      <td>0</td>\n",
       "      <td>50606</td>\n",
       "      <td>Roe v. Wade</td>\n",
       "      <td>https://api.oyez.org/cases/1971/70-18</td>\n",
       "      <td>70-18</td>\n",
       "      <td>1971</td>\n",
       "      <td>Jane Roe</td>\n",
       "      <td>Henry Wade</td>\n",
       "      <td>&lt;p&gt;In 1970, Jane Roe (a fictional name used in...</td>\n",
       "      <td>501</td>\n",
       "      <td>7</td>\n",
       "      <td>2</td>\n",
       "      <td>True</td>\n",
       "      <td>majority opinion</td>\n",
       "      <td>reversed</td>\n",
       "      <td>NaN</td>\n",
       "    </tr>\n",
       "    <tr>\n",
       "      <th>1</th>\n",
       "      <td>1</td>\n",
       "      <td>50613</td>\n",
       "      <td>Stanley v. Illinois</td>\n",
       "      <td>https://api.oyez.org/cases/1971/70-5014</td>\n",
       "      <td>70-5014</td>\n",
       "      <td>1971</td>\n",
       "      <td>Peter Stanley, Sr.</td>\n",
       "      <td>Illinois</td>\n",
       "      <td>&lt;p&gt;Joan Stanley had three children with Peter ...</td>\n",
       "      <td>757</td>\n",
       "      <td>5</td>\n",
       "      <td>2</td>\n",
       "      <td>True</td>\n",
       "      <td>majority opinion</td>\n",
       "      <td>reversed/remanded</td>\n",
       "      <td>Civil Rights</td>\n",
       "    </tr>\n",
       "    <tr>\n",
       "      <th>2</th>\n",
       "      <td>2</td>\n",
       "      <td>50623</td>\n",
       "      <td>Giglio v. United States</td>\n",
       "      <td>https://api.oyez.org/cases/1971/70-29</td>\n",
       "      <td>70-29</td>\n",
       "      <td>1971</td>\n",
       "      <td>John Giglio</td>\n",
       "      <td>United States</td>\n",
       "      <td>&lt;p&gt;John Giglio was convicted of passing forged...</td>\n",
       "      <td>495</td>\n",
       "      <td>7</td>\n",
       "      <td>0</td>\n",
       "      <td>True</td>\n",
       "      <td>majority opinion</td>\n",
       "      <td>reversed/remanded</td>\n",
       "      <td>Due Process</td>\n",
       "    </tr>\n",
       "    <tr>\n",
       "      <th>3</th>\n",
       "      <td>3</td>\n",
       "      <td>50632</td>\n",
       "      <td>Reed v. Reed</td>\n",
       "      <td>https://api.oyez.org/cases/1971/70-4</td>\n",
       "      <td>70-4</td>\n",
       "      <td>1971</td>\n",
       "      <td>Sally Reed</td>\n",
       "      <td>Cecil Reed</td>\n",
       "      <td>&lt;p&gt;The Idaho Probate Code specified that \"male...</td>\n",
       "      <td>378</td>\n",
       "      <td>7</td>\n",
       "      <td>0</td>\n",
       "      <td>True</td>\n",
       "      <td>majority opinion</td>\n",
       "      <td>reversed/remanded</td>\n",
       "      <td>Civil Rights</td>\n",
       "    </tr>\n",
       "    <tr>\n",
       "      <th>4</th>\n",
       "      <td>4</td>\n",
       "      <td>50643</td>\n",
       "      <td>Miller v. California</td>\n",
       "      <td>https://api.oyez.org/cases/1971/70-73</td>\n",
       "      <td>70-73</td>\n",
       "      <td>1971</td>\n",
       "      <td>Marvin Miller</td>\n",
       "      <td>California</td>\n",
       "      <td>&lt;p&gt;Miller, after conducting a mass mailing cam...</td>\n",
       "      <td>305</td>\n",
       "      <td>5</td>\n",
       "      <td>4</td>\n",
       "      <td>True</td>\n",
       "      <td>majority opinion</td>\n",
       "      <td>vacated/remanded</td>\n",
       "      <td>First Amendment</td>\n",
       "    </tr>\n",
       "  </tbody>\n",
       "</table>\n",
       "</div>"
      ],
      "text/plain": [
       "   Unnamed: 0     ID                     name  \\\n",
       "0           0  50606              Roe v. Wade   \n",
       "1           1  50613      Stanley v. Illinois   \n",
       "2           2  50623  Giglio v. United States   \n",
       "3           3  50632             Reed v. Reed   \n",
       "4           4  50643     Miller v. California   \n",
       "\n",
       "                                      href   docket  term  \\\n",
       "0    https://api.oyez.org/cases/1971/70-18    70-18  1971   \n",
       "1  https://api.oyez.org/cases/1971/70-5014  70-5014  1971   \n",
       "2    https://api.oyez.org/cases/1971/70-29    70-29  1971   \n",
       "3     https://api.oyez.org/cases/1971/70-4     70-4  1971   \n",
       "4    https://api.oyez.org/cases/1971/70-73    70-73  1971   \n",
       "\n",
       "           first_party   second_party  \\\n",
       "0             Jane Roe     Henry Wade   \n",
       "1  Peter Stanley, Sr.        Illinois   \n",
       "2         John Giglio   United States   \n",
       "3           Sally Reed     Cecil Reed   \n",
       "4        Marvin Miller     California   \n",
       "\n",
       "                                               facts  facts_len  \\\n",
       "0  <p>In 1970, Jane Roe (a fictional name used in...        501   \n",
       "1  <p>Joan Stanley had three children with Peter ...        757   \n",
       "2  <p>John Giglio was convicted of passing forged...        495   \n",
       "3  <p>The Idaho Probate Code specified that \"male...        378   \n",
       "4  <p>Miller, after conducting a mass mailing cam...        305   \n",
       "\n",
       "   majority_vote  minority_vote first_party_winner     decision_type  \\\n",
       "0              7              2               True  majority opinion   \n",
       "1              5              2               True  majority opinion   \n",
       "2              7              0               True  majority opinion   \n",
       "3              7              0               True  majority opinion   \n",
       "4              5              4               True  majority opinion   \n",
       "\n",
       "         disposition       issue_area  \n",
       "0           reversed              NaN  \n",
       "1  reversed/remanded     Civil Rights  \n",
       "2  reversed/remanded      Due Process  \n",
       "3  reversed/remanded     Civil Rights  \n",
       "4   vacated/remanded  First Amendment  "
      ]
     },
     "execution_count": 6,
     "metadata": {},
     "output_type": "execute_result"
    }
   ],
   "source": [
    "df.head()"
   ]
  },
  {
   "cell_type": "code",
   "execution_count": 7,
   "id": "3ecd813c",
   "metadata": {},
   "outputs": [
    {
     "data": {
      "text/html": [
       "<div>\n",
       "<style scoped>\n",
       "    .dataframe tbody tr th:only-of-type {\n",
       "        vertical-align: middle;\n",
       "    }\n",
       "\n",
       "    .dataframe tbody tr th {\n",
       "        vertical-align: top;\n",
       "    }\n",
       "\n",
       "    .dataframe thead th {\n",
       "        text-align: right;\n",
       "    }\n",
       "</style>\n",
       "<table border=\"1\" class=\"dataframe\">\n",
       "  <thead>\n",
       "    <tr style=\"text-align: right;\">\n",
       "      <th></th>\n",
       "      <th>Unnamed: 0</th>\n",
       "      <th>ID</th>\n",
       "      <th>name</th>\n",
       "      <th>href</th>\n",
       "      <th>docket</th>\n",
       "      <th>term</th>\n",
       "      <th>first_party</th>\n",
       "      <th>second_party</th>\n",
       "      <th>facts</th>\n",
       "      <th>facts_len</th>\n",
       "      <th>majority_vote</th>\n",
       "      <th>minority_vote</th>\n",
       "      <th>first_party_winner</th>\n",
       "      <th>decision_type</th>\n",
       "      <th>disposition</th>\n",
       "      <th>issue_area</th>\n",
       "    </tr>\n",
       "  </thead>\n",
       "  <tbody>\n",
       "    <tr>\n",
       "      <th>count</th>\n",
       "      <td>3303.000000</td>\n",
       "      <td>3303.000000</td>\n",
       "      <td>3303</td>\n",
       "      <td>3303</td>\n",
       "      <td>3303</td>\n",
       "      <td>3303</td>\n",
       "      <td>3302</td>\n",
       "      <td>3302</td>\n",
       "      <td>3303</td>\n",
       "      <td>3303.000000</td>\n",
       "      <td>3303.000000</td>\n",
       "      <td>3303.000000</td>\n",
       "      <td>3288</td>\n",
       "      <td>3296</td>\n",
       "      <td>3231</td>\n",
       "      <td>3161</td>\n",
       "    </tr>\n",
       "    <tr>\n",
       "      <th>unique</th>\n",
       "      <td>NaN</td>\n",
       "      <td>NaN</td>\n",
       "      <td>3240</td>\n",
       "      <td>3303</td>\n",
       "      <td>3133</td>\n",
       "      <td>70</td>\n",
       "      <td>2764</td>\n",
       "      <td>2556</td>\n",
       "      <td>3302</td>\n",
       "      <td>NaN</td>\n",
       "      <td>NaN</td>\n",
       "      <td>NaN</td>\n",
       "      <td>2</td>\n",
       "      <td>10</td>\n",
       "      <td>9</td>\n",
       "      <td>14</td>\n",
       "    </tr>\n",
       "    <tr>\n",
       "      <th>top</th>\n",
       "      <td>NaN</td>\n",
       "      <td>NaN</td>\n",
       "      <td>Johnson v. United States</td>\n",
       "      <td>https://api.oyez.org/cases/1971/70-18</td>\n",
       "      <td>None</td>\n",
       "      <td>1997</td>\n",
       "      <td>United States</td>\n",
       "      <td>United States</td>\n",
       "      <td>&lt;p&gt;In 1952, Arizona invoked the U.S. Supreme C...</td>\n",
       "      <td>NaN</td>\n",
       "      <td>NaN</td>\n",
       "      <td>NaN</td>\n",
       "      <td>True</td>\n",
       "      <td>majority opinion</td>\n",
       "      <td>reversed/remanded</td>\n",
       "      <td>Criminal Procedure</td>\n",
       "    </tr>\n",
       "    <tr>\n",
       "      <th>freq</th>\n",
       "      <td>NaN</td>\n",
       "      <td>NaN</td>\n",
       "      <td>5</td>\n",
       "      <td>1</td>\n",
       "      <td>11</td>\n",
       "      <td>97</td>\n",
       "      <td>201</td>\n",
       "      <td>314</td>\n",
       "      <td>2</td>\n",
       "      <td>NaN</td>\n",
       "      <td>NaN</td>\n",
       "      <td>NaN</td>\n",
       "      <td>2140</td>\n",
       "      <td>2829</td>\n",
       "      <td>1073</td>\n",
       "      <td>859</td>\n",
       "    </tr>\n",
       "    <tr>\n",
       "      <th>mean</th>\n",
       "      <td>1651.000000</td>\n",
       "      <td>56336.505298</td>\n",
       "      <td>NaN</td>\n",
       "      <td>NaN</td>\n",
       "      <td>NaN</td>\n",
       "      <td>NaN</td>\n",
       "      <td>NaN</td>\n",
       "      <td>NaN</td>\n",
       "      <td>NaN</td>\n",
       "      <td>1112.496821</td>\n",
       "      <td>7.009688</td>\n",
       "      <td>1.727823</td>\n",
       "      <td>NaN</td>\n",
       "      <td>NaN</td>\n",
       "      <td>NaN</td>\n",
       "      <td>NaN</td>\n",
       "    </tr>\n",
       "    <tr>\n",
       "      <th>std</th>\n",
       "      <td>953.638296</td>\n",
       "      <td>3600.259018</td>\n",
       "      <td>NaN</td>\n",
       "      <td>NaN</td>\n",
       "      <td>NaN</td>\n",
       "      <td>NaN</td>\n",
       "      <td>NaN</td>\n",
       "      <td>NaN</td>\n",
       "      <td>NaN</td>\n",
       "      <td>531.514960</td>\n",
       "      <td>1.726244</td>\n",
       "      <td>1.604460</td>\n",
       "      <td>NaN</td>\n",
       "      <td>NaN</td>\n",
       "      <td>NaN</td>\n",
       "      <td>NaN</td>\n",
       "    </tr>\n",
       "    <tr>\n",
       "      <th>min</th>\n",
       "      <td>0.000000</td>\n",
       "      <td>50606.000000</td>\n",
       "      <td>NaN</td>\n",
       "      <td>NaN</td>\n",
       "      <td>NaN</td>\n",
       "      <td>NaN</td>\n",
       "      <td>NaN</td>\n",
       "      <td>NaN</td>\n",
       "      <td>NaN</td>\n",
       "      <td>26.000000</td>\n",
       "      <td>0.000000</td>\n",
       "      <td>0.000000</td>\n",
       "      <td>NaN</td>\n",
       "      <td>NaN</td>\n",
       "      <td>NaN</td>\n",
       "      <td>NaN</td>\n",
       "    </tr>\n",
       "    <tr>\n",
       "      <th>25%</th>\n",
       "      <td>825.500000</td>\n",
       "      <td>54339.500000</td>\n",
       "      <td>NaN</td>\n",
       "      <td>NaN</td>\n",
       "      <td>NaN</td>\n",
       "      <td>NaN</td>\n",
       "      <td>NaN</td>\n",
       "      <td>NaN</td>\n",
       "      <td>NaN</td>\n",
       "      <td>757.000000</td>\n",
       "      <td>5.000000</td>\n",
       "      <td>0.000000</td>\n",
       "      <td>NaN</td>\n",
       "      <td>NaN</td>\n",
       "      <td>NaN</td>\n",
       "      <td>NaN</td>\n",
       "    </tr>\n",
       "    <tr>\n",
       "      <th>50%</th>\n",
       "      <td>1651.000000</td>\n",
       "      <td>55260.000000</td>\n",
       "      <td>NaN</td>\n",
       "      <td>NaN</td>\n",
       "      <td>NaN</td>\n",
       "      <td>NaN</td>\n",
       "      <td>NaN</td>\n",
       "      <td>NaN</td>\n",
       "      <td>NaN</td>\n",
       "      <td>1049.000000</td>\n",
       "      <td>7.000000</td>\n",
       "      <td>2.000000</td>\n",
       "      <td>NaN</td>\n",
       "      <td>NaN</td>\n",
       "      <td>NaN</td>\n",
       "      <td>NaN</td>\n",
       "    </tr>\n",
       "    <tr>\n",
       "      <th>75%</th>\n",
       "      <td>2476.500000</td>\n",
       "      <td>59437.500000</td>\n",
       "      <td>NaN</td>\n",
       "      <td>NaN</td>\n",
       "      <td>NaN</td>\n",
       "      <td>NaN</td>\n",
       "      <td>NaN</td>\n",
       "      <td>NaN</td>\n",
       "      <td>NaN</td>\n",
       "      <td>1381.000000</td>\n",
       "      <td>9.000000</td>\n",
       "      <td>3.000000</td>\n",
       "      <td>NaN</td>\n",
       "      <td>NaN</td>\n",
       "      <td>NaN</td>\n",
       "      <td>NaN</td>\n",
       "    </tr>\n",
       "    <tr>\n",
       "      <th>max</th>\n",
       "      <td>3302.000000</td>\n",
       "      <td>63335.000000</td>\n",
       "      <td>NaN</td>\n",
       "      <td>NaN</td>\n",
       "      <td>NaN</td>\n",
       "      <td>NaN</td>\n",
       "      <td>NaN</td>\n",
       "      <td>NaN</td>\n",
       "      <td>NaN</td>\n",
       "      <td>6201.000000</td>\n",
       "      <td>9.000000</td>\n",
       "      <td>4.000000</td>\n",
       "      <td>NaN</td>\n",
       "      <td>NaN</td>\n",
       "      <td>NaN</td>\n",
       "      <td>NaN</td>\n",
       "    </tr>\n",
       "  </tbody>\n",
       "</table>\n",
       "</div>"
      ],
      "text/plain": [
       "         Unnamed: 0            ID                      name  \\\n",
       "count   3303.000000   3303.000000                      3303   \n",
       "unique          NaN           NaN                      3240   \n",
       "top             NaN           NaN  Johnson v. United States   \n",
       "freq            NaN           NaN                         5   \n",
       "mean    1651.000000  56336.505298                       NaN   \n",
       "std      953.638296   3600.259018                       NaN   \n",
       "min        0.000000  50606.000000                       NaN   \n",
       "25%      825.500000  54339.500000                       NaN   \n",
       "50%     1651.000000  55260.000000                       NaN   \n",
       "75%     2476.500000  59437.500000                       NaN   \n",
       "max     3302.000000  63335.000000                       NaN   \n",
       "\n",
       "                                         href docket  term    first_party  \\\n",
       "count                                    3303   3303  3303           3302   \n",
       "unique                                   3303   3133    70           2764   \n",
       "top     https://api.oyez.org/cases/1971/70-18   None  1997  United States   \n",
       "freq                                        1     11    97            201   \n",
       "mean                                      NaN    NaN   NaN            NaN   \n",
       "std                                       NaN    NaN   NaN            NaN   \n",
       "min                                       NaN    NaN   NaN            NaN   \n",
       "25%                                       NaN    NaN   NaN            NaN   \n",
       "50%                                       NaN    NaN   NaN            NaN   \n",
       "75%                                       NaN    NaN   NaN            NaN   \n",
       "max                                       NaN    NaN   NaN            NaN   \n",
       "\n",
       "         second_party                                              facts  \\\n",
       "count            3302                                               3303   \n",
       "unique           2556                                               3302   \n",
       "top     United States  <p>In 1952, Arizona invoked the U.S. Supreme C...   \n",
       "freq              314                                                  2   \n",
       "mean              NaN                                                NaN   \n",
       "std               NaN                                                NaN   \n",
       "min               NaN                                                NaN   \n",
       "25%               NaN                                                NaN   \n",
       "50%               NaN                                                NaN   \n",
       "75%               NaN                                                NaN   \n",
       "max               NaN                                                NaN   \n",
       "\n",
       "          facts_len  majority_vote  minority_vote first_party_winner  \\\n",
       "count   3303.000000    3303.000000    3303.000000               3288   \n",
       "unique          NaN            NaN            NaN                  2   \n",
       "top             NaN            NaN            NaN               True   \n",
       "freq            NaN            NaN            NaN               2140   \n",
       "mean    1112.496821       7.009688       1.727823                NaN   \n",
       "std      531.514960       1.726244       1.604460                NaN   \n",
       "min       26.000000       0.000000       0.000000                NaN   \n",
       "25%      757.000000       5.000000       0.000000                NaN   \n",
       "50%     1049.000000       7.000000       2.000000                NaN   \n",
       "75%     1381.000000       9.000000       3.000000                NaN   \n",
       "max     6201.000000       9.000000       4.000000                NaN   \n",
       "\n",
       "           decision_type        disposition          issue_area  \n",
       "count               3296               3231                3161  \n",
       "unique                10                  9                  14  \n",
       "top     majority opinion  reversed/remanded  Criminal Procedure  \n",
       "freq                2829               1073                 859  \n",
       "mean                 NaN                NaN                 NaN  \n",
       "std                  NaN                NaN                 NaN  \n",
       "min                  NaN                NaN                 NaN  \n",
       "25%                  NaN                NaN                 NaN  \n",
       "50%                  NaN                NaN                 NaN  \n",
       "75%                  NaN                NaN                 NaN  \n",
       "max                  NaN                NaN                 NaN  "
      ]
     },
     "execution_count": 7,
     "metadata": {},
     "output_type": "execute_result"
    }
   ],
   "source": [
    "df.describe(include=\"all\")"
   ]
  },
  {
   "cell_type": "code",
   "execution_count": 8,
   "id": "b83d4d80",
   "metadata": {},
   "outputs": [
    {
     "data": {
      "text/plain": [
       "Unnamed: 0              0\n",
       "ID                      0\n",
       "name                    0\n",
       "href                    0\n",
       "docket                  0\n",
       "term                    0\n",
       "first_party             1\n",
       "second_party            1\n",
       "facts                   0\n",
       "facts_len               0\n",
       "majority_vote           0\n",
       "minority_vote           0\n",
       "first_party_winner     15\n",
       "decision_type           7\n",
       "disposition            72\n",
       "issue_area            142\n",
       "dtype: int64"
      ]
     },
     "execution_count": 8,
     "metadata": {},
     "output_type": "execute_result"
    }
   ],
   "source": [
    "df.isnull().sum()"
   ]
  },
  {
   "cell_type": "code",
   "execution_count": 16,
   "id": "37c7d78d",
   "metadata": {},
   "outputs": [],
   "source": [
    "import seaborn as sns\n",
    "import os"
   ]
  },
  {
   "cell_type": "code",
   "execution_count": 48,
   "id": "f08216cd",
   "metadata": {},
   "outputs": [
    {
     "data": {
      "image/png": "[encoded data removed]",
      "text/plain": [
       "<Figure size 576x288 with 1 Axes>"
      ]
     },
     "metadata": {
      "needs_background": "light"
     },
     "output_type": "display_data"
    }
   ],
   "source": [
    "#Decision type distribution\n",
    "\n",
    "plt.figure(figsize = (8, 4))\n",
    "pl= sns.countplot(data = df,\n",
    "                  x = 'decision_type', \n",
    "                  color= 'blue')\n",
    "\n",
    "pl.bar_label(pl.containers[0])\n",
    "pl.set_ylim(0, 3500)\n",
    "pl.set_title('Decision Type Distribution')\n",
    "plt.xticks(rotation=45)\n",
    "\n",
    "plt.show()"
   ]
  },
  {
   "cell_type": "code",
   "execution_count": 31,
   "id": "265e6ca8",
   "metadata": {},
   "outputs": [
    {
     "data": {
      "image/png": "[encoded data removed]",
      "text/plain": [
       "<Figure size 432x288 with 1 Axes>"
      ]
     },
     "metadata": {
      "needs_background": "light"
     },
     "output_type": "display_data"
    }
   ],
   "source": [
    "sns.countplot(df['majority_vote'])\n",
    "plt.show()"
   ]
  },
  {
   "cell_type": "code",
   "execution_count": 32,
   "id": "2da0aef8",
   "metadata": {},
   "outputs": [
    {
     "data": {
      "image/png": "[encoded data removed]",
      "text/plain": [
       "<Figure size 432x288 with 1 Axes>"
      ]
     },
     "metadata": {
      "needs_background": "light"
     },
     "output_type": "display_data"
    }
   ],
   "source": [
    "sns.countplot(df['minority_vote'])\n",
    "plt.show()"
   ]
  },
  {
   "cell_type": "code",
   "execution_count": 44,
   "id": "8341b913",
   "metadata": {},
   "outputs": [
    {
     "data": {
      "text/plain": [
       "<AxesSubplot:ylabel='first_party_winner'>"
      ]
     },
     "execution_count": 44,
     "metadata": {},
     "output_type": "execute_result"
    },
    {
     "data": {
      "image/png": "[encoded data removed]",
      "text/plain": [
       "<Figure size 360x360 with 1 Axes>"
      ]
     },
     "metadata": {},
     "output_type": "display_data"
    }
   ],
   "source": [
    "plt.figure(figsize=(5,5))\n",
    "df.first_party_winner.value_counts().plot(kind='pie')"
   ]
  },
  {
   "cell_type": "code",
   "execution_count": 56,
   "id": "18c8ed32",
   "metadata": {},
   "outputs": [
    {
     "data": {
      "image/png": "[encoded data removed]",
      "text/plain": [
       "<Figure size 576x288 with 1 Axes>"
      ]
     },
     "metadata": {
      "needs_background": "light"
     },
     "output_type": "display_data"
    }
   ],
   "source": [
    "#Dispositionwise distribution\n",
    "\n",
    "plt.figure(figsize = (8, 4))\n",
    "dis= sns.countplot(data = df,\n",
    "                  x = 'disposition', \n",
    "                  color= 'red')\n",
    "\n",
    "dis.bar_label(dis.containers[0])\n",
    "dis.set_ylim(0,1500)\n",
    "dis.set_title('Decision Type Distribution')\n",
    "plt.xticks(rotation=90)\n",
    "\n",
    "plt.show()"
   ]
  },
  {
   "cell_type": "code",
   "execution_count": 67,
   "id": "bc60f092",
   "metadata": {},
   "outputs": [
    {
     "data": {
      "image/png": "[encoded data removed]",
      "text/plain": [
       "<Figure size 576x288 with 1 Axes>"
      ]
     },
     "metadata": {
      "needs_background": "light"
     },
     "output_type": "display_data"
    }
   ],
   "source": [
    "#issue area wise Distribution\n",
    "\n",
    "plt.figure(figsize = (8, 4))\n",
    "issue= sns.countplot(data = df,\n",
    "                  x = 'issue_area', \n",
    "                  color= 'Green')\n",
    "\n",
    "issue.bar_label(issue.containers[0])\n",
    "issue.set_ylim(0,1000)\n",
    "issue.set_title('Decision Type Distribution')\n",
    "plt.xticks(rotation=90)\n",
    "\n",
    "plt.show()"
   ]
  },
  {
   "cell_type": "code",
   "execution_count": null,
   "id": "4bd1e7ea",
   "metadata": {},
   "outputs": [],
   "source": []
  }
 ],
 "metadata": {
  "kernelspec": {
   "display_name": "Python 3 (ipykernel)",
   "language": "python",
   "name": "python3"
  },
  "language_info": {
   "codemirror_mode": {
    "name": "ipython",
    "version": 3
   },
   "file_extension": ".py",
   "mimetype": "text/x-python",
   "name": "python",
   "nbconvert_exporter": "python",
   "pygments_lexer": "ipython3",
   "version": "3.9.7"
  }
 },
 "nbformat": 4,
 "nbformat_minor": 5
}
